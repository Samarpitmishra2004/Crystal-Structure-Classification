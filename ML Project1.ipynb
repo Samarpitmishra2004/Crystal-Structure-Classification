{
 "cells": [
  {
   "cell_type": "code",
   "execution_count": 1,
   "id": "c0ece9fb-d0ea-4f28-b0fc-db945307c44a",
   "metadata": {},
   "outputs": [],
   "source": [
    "import pandas as pd\n",
    "# Load the Excel file\n",
    "file_path = 'Dataset_Crystal_Structure.xlsx'  # Replace with the actual path if it's not in the same directory\n",
    "data = pd.read_excel(file_path)\n",
    "data = data.rename(columns={'l(A-O)(Å)': 'I(A-O)'})\n",
    "data = data.rename(columns={'l(B-O)(Å)': 'I(B-O)'})\n",
    "\n",
    "\n"
   ]
  },
  {
   "cell_type": "code",
   "execution_count": 2,
   "id": "c2c07041-cfa0-4d89-8c09-4a4290308653",
   "metadata": {},
   "outputs": [],
   "source": [
    "# Select relevant columns\n",
    "selected_columns = [\n",
    "    'Compound', 'A', 'B', 'Lowest distortion', \n",
    "    'r(AXII)(Å)', 'r(AVI)(Å)', 'r(BVI)(Å)', \n",
    "    'EN(A)', 'EN(B)', 'I(A-O)', 'I(B-O)', \n",
    "    'ΔENR', 'tG', 'τ', 'μ'\n",
    "]\n",
    "data = data[selected_columns]\n",
    "\n",
    "# Check for missing values\n",
    "# print(\"Missing values per column:\\n\", data.isnull().sum())\n",
    "\n",
    "# Drop rows with missing target labels if there are any\n",
    "data = data.dropna(subset=['Lowest distortion'])\n",
    "\n",
    "# Separate features and target\n",
    "X = data.drop(columns=['Compound', 'Lowest distortion', 'τ'])  # 'Compound' is just an identifier, not a feature\n",
    "y = data['Lowest distortion']  # This is the target variable\n",
    "\n",
    "# # Encode categorical variables ('A' and 'B' elements) using one-hot encoding\n",
    "X = pd.get_dummies(X, columns=['A', 'B'], drop_first=True)\n",
    "\n",
    "# Display the processed data\n",
    "# print(\"Features after preprocessing:\\n\", X.head())\n",
    "# print(\"Target variable:\\n\", y.head())\n"
   ]
  },
  {
   "cell_type": "code",
   "execution_count": 3,
   "id": "17a4fd22-f619-4e3f-96a0-35cad59c13be",
   "metadata": {},
   "outputs": [],
   "source": [
    "# Checking for any null values of the target variable Lowest Distortion\n",
    "columns_with_missing_values = data.columns[data.isnull().any()]\n",
    "# print(columns_with_missing_values)"
   ]
  },
  {
   "cell_type": "code",
   "execution_count": 4,
   "id": "0ef450b4-21f4-44ee-8025-7cd0982b2cb6",
   "metadata": {},
   "outputs": [],
   "source": [
    "# Creating new features based on given columns which will be useful like ionic radius ratio and electronegativity difference\n",
    "import numpy as np\n",
    "from sklearn.preprocessing import MinMaxScaler\n",
    "# Ionic Radius Ratio\n",
    "X['i_r_ratio'] = X['r(AXII)(Å)'] / X['r(BVI)(Å)']\n",
    "\n",
    "# Electronegativity Difference\n",
    "X['elec_diff'] = abs(X['EN(A)'] - X['EN(B)'])\n",
    "\n",
    "# Scale Numerical Features\n",
    "scaler = MinMaxScaler()\n",
    "X[['i_r_ratio', 'elec_diff']] = scaler.fit_transform(X[['i_r_ratio', 'elec_diff']])\n",
    "# print(X.head(1))\n"
   ]
  },
  {
   "cell_type": "code",
   "execution_count": 5,
   "id": "813a08e8-6aa5-4108-8ae6-f1278c63b17c",
   "metadata": {},
   "outputs": [
    {
     "name": "stdout",
     "output_type": "stream",
     "text": [
      "Accuracy: 0.7692307692307693\n",
      "\n",
      "Classification Report:\n",
      "               precision    recall  f1-score   support\n",
      "\n",
      "           -       1.00      0.08      0.15        12\n",
      "       cubic       0.81      0.91      0.86       650\n",
      "orthorhombic       0.68      0.69      0.68       302\n",
      "rhombohedral       0.62      0.14      0.23        70\n",
      "  tetragonal       0.59      0.31      0.41        32\n",
      "\n",
      "    accuracy                           0.77      1066\n",
      "   macro avg       0.74      0.43      0.47      1066\n",
      "weighted avg       0.76      0.77      0.75      1066\n",
      "\n",
      "\n",
      "Confusion Matrix:\n",
      " [[  1   5   4   0   2]\n",
      " [  0 592  52   2   4]\n",
      " [  0  90 207   4   1]\n",
      " [  0  24  36  10   0]\n",
      " [  0  17   5   0  10]]\n"
     ]
    }
   ],
   "source": [
    "# Training the model\n",
    "# Importing Libraries\n",
    "from sklearn.ensemble import RandomForestClassifier\n",
    "from sklearn.preprocessing import StandardScaler\n",
    "from sklearn.metrics import accuracy_score, classification_report, confusion_matrix\n",
    "from sklearn.model_selection import train_test_split\n",
    "\n",
    "# Split data into training and testing sets\n",
    "X_train, X_test, y_train, y_test = train_test_split(X, y, test_size=0.2, random_state=42)\n",
    "\n",
    "\n",
    "# Create a Random Forest Classifier\n",
    "model = RandomForestClassifier(n_estimators=100, random_state=42)\n",
    "\n",
    "# Train the model on the training data\n",
    "model.fit(X_train, y_train)\n",
    "\n",
    "# Make predictions on the testing data\n",
    "y_pred = model.predict(X_test)\n",
    "\n",
    "# Evaluate the model's performance\n",
    "print(\"Accuracy:\", accuracy_score(y_test, y_pred))\n",
    "print(\"\\nClassification Report:\\n\", classification_report(y_test, y_pred))\n",
    "print(\"\\nConfusion Matrix:\\n\", confusion_matrix(y_test, y_pred))\n"
   ]
  },
  {
   "cell_type": "code",
   "execution_count": null,
   "id": "03db2a83-7d7d-46b1-8550-f9912efff089",
   "metadata": {},
   "outputs": [],
   "source": []
  }
 ],
 "metadata": {
  "kernelspec": {
   "display_name": "Python 3 (ipykernel)",
   "language": "python",
   "name": "python3"
  },
  "language_info": {
   "codemirror_mode": {
    "name": "ipython",
    "version": 3
   },
   "file_extension": ".py",
   "mimetype": "text/x-python",
   "name": "python",
   "nbconvert_exporter": "python",
   "pygments_lexer": "ipython3",
   "version": "3.12.3"
  }
 },
 "nbformat": 4,
 "nbformat_minor": 5
}
